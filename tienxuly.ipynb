{
 "cells": [
  {
   "cell_type": "code",
   "execution_count": 1,
   "metadata": {},
   "outputs": [],
   "source": [
    "import pandas as pd"
   ]
  },
  {
   "cell_type": "code",
   "execution_count": 2,
   "metadata": {},
   "outputs": [],
   "source": [
    "data = pd.read_csv('valueData.csv') "
   ]
  },
  {
   "cell_type": "markdown",
   "metadata": {},
   "source": [
    "# Tiền xử lý:\n",
    "Chuyển đổi các cột dữ liệu string sang float.\n",
    "Các cột cần chuyển:\n",
    "- Car\n",
    "- madeIn\n",
    "- status\n",
    "- carType\n",
    "- carColor\n",
    "- engine\n",
    "- gear\n",
    "- wheeldrive"
   ]
  },
  {
   "cell_type": "markdown",
   "metadata": {},
   "source": [
    "# Chuyển dữ liệu cột madeIn"
   ]
  },
  {
   "cell_type": "code",
   "execution_count": 3,
   "metadata": {},
   "outputs": [],
   "source": [
    "# Liệt kê số loại madeIn và tổng số lượng của từng loại có được.\n",
    "dup_madein=data.madeIn.value_counts()"
   ]
  },
  {
   "cell_type": "code",
   "execution_count": 4,
   "metadata": {},
   "outputs": [
    {
     "data": {
      "text/plain": [
       "Lắp ráp trong nước    7543\n",
       "Nhập khẩu             3487\n",
       "Name: madeIn, dtype: int64"
      ]
     },
     "execution_count": 4,
     "metadata": {},
     "output_type": "execute_result"
    }
   ],
   "source": [
    "dup_madein"
   ]
  },
  {
   "cell_type": "code",
   "execution_count": 5,
   "metadata": {},
   "outputs": [],
   "source": [
    "mapper={'Lắp ráp trong nước':1.01,'Nhập khẩu':1.02}\n",
    "data['madeIn']=data['madeIn'].map(mapper)"
   ]
  },
  {
   "cell_type": "markdown",
   "metadata": {},
   "source": [
    "# Chuyển dữ liệu cột status"
   ]
  },
  {
   "cell_type": "code",
   "execution_count": 6,
   "metadata": {},
   "outputs": [],
   "source": [
    "# Liệt kê loại tình trạng xe và tổng số lượng của từng loại có được.\n",
    "dup_status=data.status.value_counts()"
   ]
  },
  {
   "cell_type": "code",
   "execution_count": 7,
   "metadata": {},
   "outputs": [
    {
     "data": {
      "text/plain": [
       "Xe đã dùng    5777\n",
       "Xe mới        5253\n",
       "Name: status, dtype: int64"
      ]
     },
     "execution_count": 7,
     "metadata": {},
     "output_type": "execute_result"
    }
   ],
   "source": [
    "dup_status"
   ]
  },
  {
   "cell_type": "code",
   "execution_count": 8,
   "metadata": {},
   "outputs": [],
   "source": [
    "statusMap={'Xe mới':1.01,'Xe đã dùng':1.02}\n",
    "data['status']=data['status'].map(statusMap)"
   ]
  },
  {
   "cell_type": "markdown",
   "metadata": {},
   "source": [
    "# Chuyển dữ liệu cột carType"
   ]
  },
  {
   "cell_type": "code",
   "execution_count": 9,
   "metadata": {},
   "outputs": [
    {
     "data": {
      "text/plain": [
       "Sedan                 4097\n",
       "SUV                   3448\n",
       "Hatchback             1021\n",
       "Crossover             1007\n",
       "Bán tải / Pickup     956\n",
       "Van/Minivan            424\n",
       "Truck                   77\n",
       "Name: carType, dtype: int64"
      ]
     },
     "execution_count": 9,
     "metadata": {},
     "output_type": "execute_result"
    }
   ],
   "source": [
    "# Liệt kê loại xe và tổng số lượng của từng loại có được.\n",
    "data.carType.value_counts()"
   ]
  },
  {
   "cell_type": "code",
   "execution_count": 10,
   "metadata": {},
   "outputs": [],
   "source": [
    "carTypeMap={'SUV':1.01,'Sedan':1.02,'Hatchback':1.03,'Crossover':1.04,'Bán tải / Pickup':1.05,'Van/Minivan':1.06,'Truck':1.07,\n",
    "           'Coupe':1.08,'Convertible/Cabriolet':1.09,'Wagon':1.011}\n",
    "data['carType']=data['carType'].map(carTypeMap)"
   ]
  },
  {
   "cell_type": "markdown",
   "metadata": {},
   "source": [
    "# Chuyển dữ liệu cột engine"
   ]
  },
  {
   "cell_type": "code",
   "execution_count": 11,
   "metadata": {},
   "outputs": [
    {
     "data": {
      "text/plain": [
       "'Xăng\\t1.5 L'"
      ]
     },
     "execution_count": 11,
     "metadata": {},
     "output_type": "execute_result"
    }
   ],
   "source": [
    "engineMap=data['engine'].value_counts()\n",
    "engineMap.index[0]"
   ]
  },
  {
   "cell_type": "code",
   "execution_count": 12,
   "metadata": {},
   "outputs": [
    {
     "name": "stdout",
     "output_type": "stream",
     "text": [
      "{'Xăng\\t1.5 L': 1.001, 'Xăng\\t2.0 L': 1.0019999999999998, 'Xăng\\t1.6 L': 1.003, 'Dầu\\t2.0 L': 1.0039999999999998, 'Xăng\\t1.25 L': 1.005, 'Dầu\\t2.2 L': 1.0059999999999998, 'Xăng\\t1.4 L': 1.007, 'Dầu\\t2.4 L': 1.0079999999999998, 'Xăng\\t2.5 L': 1.009, 'Xăng\\t3.0 L': 1.0099999999999998, 'Xăng\\t1.2 L': 1.011, 'Xăng\\t1.8 L': 1.0119999999999998, 'Xăng\\t2.4 L': 1.013, 'Dầu\\t2.5 L': 1.0139999999999998, 'Hybrid\\t1.5 L': 1.015, 'Xăng\\t2.3 L': 1.0159999999999998, 'Xăng\\t1.0 L': 1.017, 'Xăng\\t2.7 L': 1.0179999999999998, 'Xăng\\t5.7 L': 1.019, 'Xăng\\t3.5 L': 1.0199999999999998, 'Hybrid\\t2.5 L': 1.021, 'Dầu\\t2.8 L': 1.0219999999999998, 'Xăng': 1.023, 'Dầu\\t3.2 L': 1.0239999999999998, 'Dầu': 1.025, 'Dầu\\t1.9 L': 1.0259999999999998, 'Dầu\\t3.0 L': 1.027, 'Xăng\\t4.6 L': 1.0279999999999998, 'Xăng\\t1.3 L': 1.029, 'Hybrid\\t1.8 L': 1.0299999999999998, 'Xăng\\t3.3 L': 1.031, 'Xăng\\t6.2 L': 1.0319999999999998, 'Hybrid': 1.033}\n"
     ]
    }
   ],
   "source": [
    "# Duyệt dữ liệu động cơ và chuyển dữ liệu cho từng loại.\n",
    "engineList=dict()\n",
    "i=0\n",
    "while i<len(engineMap):\n",
    "    engineList[engineMap.index[i]]=i*0.001+1.001\n",
    "    i+=1\n",
    "print(engineList)"
   ]
  },
  {
   "cell_type": "code",
   "execution_count": 13,
   "metadata": {},
   "outputs": [],
   "source": [
    "data.engine=data.engine.map(engineList)"
   ]
  },
  {
   "cell_type": "markdown",
   "metadata": {},
   "source": [
    "# Chuyển dữ liệu cột carColor"
   ]
  },
  {
   "cell_type": "code",
   "execution_count": 14,
   "metadata": {},
   "outputs": [
    {
     "data": {
      "text/plain": [
       "Trắng        3538\n",
       "Đen          2029\n",
       "Đỏ           1696\n",
       "Xanh          901\n",
       "Bạc           897\n",
       "Xám           434\n",
       "Nâu           408\n",
       "Cát           338\n",
       "Vàng          255\n",
       "Cam           182\n",
       "Ghi           148\n",
       "Đồng          109\n",
       "Nhiều màu      46\n",
       "Hồng           16\n",
       "Màu khác       15\n",
       "Kem            13\n",
       "Tím             5\n",
       "Name: carColor, dtype: int64"
      ]
     },
     "execution_count": 14,
     "metadata": {},
     "output_type": "execute_result"
    }
   ],
   "source": [
    "# Liệt kê loại màu xe và tổng số lượng của từng loại có được.\n",
    "carCor=data.carColor.value_counts()\n",
    "carCor"
   ]
  },
  {
   "cell_type": "code",
   "execution_count": 15,
   "metadata": {},
   "outputs": [
    {
     "name": "stdout",
     "output_type": "stream",
     "text": [
      "{'Trắng': 1.001, 'Đen': 1.0019999999999998, 'Đỏ': 1.003, 'Xanh': 1.0039999999999998, 'Bạc': 1.005, 'Xám': 1.0059999999999998, 'Nâu': 1.007, 'Cát': 1.0079999999999998, 'Vàng': 1.009, 'Cam': 1.0099999999999998, 'Ghi': 1.011, 'Đồng': 1.0119999999999998, 'Nhiều màu': 1.013, 'Hồng': 1.0139999999999998, 'Màu khác': 1.015, 'Kem': 1.0159999999999998, 'Tím': 1.017}\n"
     ]
    }
   ],
   "source": [
    "colorList=dict()\n",
    "i=0\n",
    "\n",
    "# Duyệt dữ liệu màu xe và chuyển dữ liệu cho từng loại.\n",
    "while i<len(carCor):\n",
    "    colorList[carCor.index[i]]=i*0.001+1.001\n",
    "    i+=1\n",
    "print(colorList)"
   ]
  },
  {
   "cell_type": "code",
   "execution_count": 16,
   "metadata": {},
   "outputs": [],
   "source": [
    "data.carColor=data.carColor.map(colorList)"
   ]
  },
  {
   "cell_type": "markdown",
   "metadata": {},
   "source": [
    "# Chuyển dữ liệu cột gear"
   ]
  },
  {
   "cell_type": "code",
   "execution_count": 17,
   "metadata": {},
   "outputs": [
    {
     "data": {
      "text/plain": [
       "Số tự động    9273\n",
       "Số tay        1756\n",
       "Số hỗn hợp       1\n",
       "Name: gear, dtype: int64"
      ]
     },
     "execution_count": 17,
     "metadata": {},
     "output_type": "execute_result"
    }
   ],
   "source": [
    "# Liệt kê loại hợp số và tổng số lượng của từng loại có được.\n",
    "data.gear.value_counts()"
   ]
  },
  {
   "cell_type": "code",
   "execution_count": 18,
   "metadata": {},
   "outputs": [],
   "source": [
    "gearMap={'Số tự động':1.01,'Số tay':1.02,'Số hỗn hợp':1.03}\n",
    "data.gear=data.gear.map(gearMap)"
   ]
  },
  {
   "cell_type": "markdown",
   "metadata": {},
   "source": []
  },
  {
   "cell_type": "code",
   "execution_count": 20,
   "metadata": {},
   "outputs": [],
   "source": [
    "# Vì một số record thông tin wheeldrive không có (điền bằng dấu -) => phải loại bỏ những dữ liệu rác này.\n",
    "data.drop(data[data.Wheeldrive=='-'].index,inplace=True)"
   ]
  },
  {
   "cell_type": "code",
   "execution_count": 19,
   "metadata": {},
   "outputs": [
    {
     "data": {
      "text/plain": [
       "FWD - Dẫn động cầu trước       6360\n",
       "RFD - Dẫn động cầu sau         2928\n",
       "AWD - 4 bánh toàn thời gian     978\n",
       "4WD - Dẫn động 4 bánh           764\n",
       "Name: Wheeldrive, dtype: int64"
      ]
     },
     "execution_count": 19,
     "metadata": {},
     "output_type": "execute_result"
    }
   ],
   "source": [
    "# Liệt kê loại wheeldrive và tổng số lượng của từng loại có được.\n",
    "data.Wheeldrive.value_counts()"
   ]
  },
  {
   "cell_type": "code",
   "execution_count": 21,
   "metadata": {},
   "outputs": [],
   "source": [
    "wheelMap=data.Wheeldrive.value_counts()"
   ]
  },
  {
   "cell_type": "code",
   "execution_count": 22,
   "metadata": {},
   "outputs": [
    {
     "name": "stdout",
     "output_type": "stream",
     "text": [
      "{'FWD - Dẫn động cầu trước': 1.001, 'RFD - Dẫn động cầu sau': 1.0019999999999998, 'AWD - 4 bánh toàn thời gian': 1.003, '4WD - Dẫn động 4 bánh': 1.0039999999999998}\n"
     ]
    }
   ],
   "source": [
    "wheelList=dict()\n",
    "i=0\n",
    "while i<len(wheelMap):\n",
    "    wheelList[wheelMap.index[i]]=i*0.001+1.001\n",
    "    i+=1\n",
    "print(wheelList)"
   ]
  },
  {
   "cell_type": "code",
   "execution_count": 23,
   "metadata": {},
   "outputs": [],
   "source": [
    "data.Wheeldrive=data.Wheeldrive.map(wheelList)"
   ]
  },
  {
   "cell_type": "markdown",
   "metadata": {},
   "source": [
    "# Chuyển dữ liệu cột car (model của xe)"
   ]
  },
  {
   "cell_type": "code",
   "execution_count": 24,
   "metadata": {},
   "outputs": [],
   "source": [
    "# Liệt kê loại model và tổng số lượng của từng loại có được.\n",
    "carMap=data.Car.value_counts()"
   ]
  },
  {
   "cell_type": "code",
   "execution_count": 25,
   "metadata": {},
   "outputs": [
    {
     "name": "stdout",
     "output_type": "stream",
     "text": [
      "{'Mazda 3 1.5 AT - 2018': 1.0, 'Toyota Vios 1.5G - 2019': 1.001, 'Mitsubishi Xpander 1.5 AT - 2019': 1.002, 'Toyota Innova 2.0E - 2018': 1.003, 'VinFast Lux A 2.0 2.0 AT - 2020': 1.004, 'Mazda 3 1.5L Luxury - 2019': 1.005, 'Toyota Vios 1.5G - 2018': 1.006, 'Kia Cerato 1.6 AT - 2018': 1.007, 'Hyundai SantaFe Premium 2.2L HTRAC - 2020': 1.008, 'VinFast Lux SA 2.0 Premium 2.0 AT - 2020': 1.009, 'Ford Everest Titanium 2.0L 4x2 AT - 2020': 1.01, 'Hyundai i10 Grand 1.2 AT - 2020': 1.011, 'Toyota Innova 2.0E - 2019': 1.012, 'VinFast Lux A 2.0 Premium 2.0 AT - 2020': 1.013, 'Ford Ranger Wildtrak 2.0L 4x4 AT - 2020': 1.014, 'Mercedes Benz C class C300 AMG - 2019': 1.015, 'VinFast Lux SA 2.0 2.0 AT - 2020': 1.016, 'Mazda CX5 2.5 AT 2WD - 2018': 1.017, 'Hyundai SantaFe Premium 2.4L HTRAC - 2020': 1.018, 'Toyota Vios 1.5E MT - 2019': 1.019, 'Ford Ranger XLS 2.2L 4x2 AT - 2020': 1.02, 'Honda City 1.5TOP - 2018': 1.021, 'Mercedes Benz S class S450L - 2019': 1.022, 'Mazda 3 1.5 AT - 2017': 1.023, 'Mazda CX5 2.0 AT - 2018': 1.024, 'Ford Ranger Raptor 2.0L 4x4 AT - 2020': 1.025, 'Toyota Vios 1.5E CVT - 2018': 1.026, 'Ford Everest Titanium 2.0L 4x4 AT - 2020': 1.027, 'Hyundai i10 Grand 1.2 AT - 2018': 1.028, 'Suzuki XL7 1.5 AT - 2020': 1.029, 'Mercedes Benz C class C200 - 2019': 1.03, 'VinFast Lux A 2.0 Plus 2.0 AT - 2020': 1.031, 'Hyundai Tucson 2.0 ATH - 2020': 1.032, 'Hyundai Kona 2.0 ATH - 2020': 1.033, 'Mercedes Benz E class E300 AMG - 2019': 1.034, 'Hyundai i10 Grand 1.2 MT - 2018': 1.035, 'Ford EcoSport Titanium 1.5L AT - 2020': 1.036, 'Ford Ranger Wildtrak 2.0L 4x4 AT - 2021': 1.037, 'Toyota Vios 1.5E - 2018': 1.038, 'Honda CRV L - 2018': 1.039, 'Ford Transit SVP - 2020': 1.04, 'Honda CRV L - 2020': 1.041, 'Hyundai i10 Grand 1.2 MT - 2020': 1.042, 'Mercedes Benz E class E300 AMG - 2020': 1.043, 'Hyundai i10 Grand 1.2 MT Base - 2020': 1.044, 'Kia Morning S AT - 2018': 1.045, 'Toyota Rush 1.5S AT - 2020': 1.046, 'VinFast Fadil 1.4 AT - 2020': 1.047, 'Hyundai Tucson 1.6 AT Turbo - 2020': 1.048, 'Hyundai Kona 1.6 Turbo - 2020': 1.049, 'Toyota Fortuner 2.4G 4x2 AT - 2020': 1.05, 'Toyota Vios 1.5G - 2020': 1.051, 'Ford EcoSport Titanium 1.5 AT - 2020': 1.052, 'Kia Cerato 1.6 AT Luxury - 2020': 1.053, 'Hyundai Accent 1.4 ATH - 2020': 1.054, 'Ford Everest Titanium 2.0L 4x2 AT - 2021': 1.055, 'Hyundai i10 Grand 1.2 AT - 2019': 1.056, 'Ford Ranger XLS 2.2L 4x2 MT - 2020': 1.057, 'Lexus LX 570 Super Sport - 2020': 1.058, 'Mitsubishi Xpander 1.5 AT - 2020': 1.059, 'Hyundai Accent 1.4 AT - 2019': 1.06, 'Kia Cerato 1.6 AT Luxury - 2019': 1.061, 'Ford EcoSport Titanium 1.5 AT - 2021': 1.062, 'Ford Everest Titanium 2.0L 4x4 AT - 2021': 1.063, 'Honda CRV L - 2019': 1.064, 'Kia Morning Luxury - 2019': 1.065, 'Mercedes Benz C class C300 AMG - 2020': 1.066, 'Toyota Innova 2.0G - 2018': 1.067, 'Toyota Fortuner 2.4G 4x2 AT - 2019': 1.068, 'Ford Ranger XLS 2.2L 4x2 AT - 2021': 1.069, 'Hyundai SantaFe 2.2L HTRAC - 2019': 1.07, 'Hyundai Tucson 2.0 AT - 2020': 1.071, 'Hyundai Kona 2.0 AT - 2020': 1.072, 'Toyota Camry 2.0E - 2018': 1.073, 'Hyundai Accent 1.4 MT - 2020': 1.074, 'Mercedes Benz C class C180 - 2020': 1.075, 'Ford Explorer Limited 2.3L EcoBoost - 2019': 1.076, 'Mercedes Benz GLS 450 4Matic - 2020': 1.077, 'Toyota Vios 1.5E CVT - 2020': 1.078, 'Nissan X trail 2.5 SV Luxury - 2020': 1.079, 'VinFast Lux SA 2.0 Plus 2.0 AT - 2020': 1.08, 'Hyundai Tucson 2.0 AT CRDi - 2020': 1.081, 'Hyundai Accent 1.4 ATH - 2019': 1.082, 'Hyundai Accent 1.4 AT - 2020': 1.083, 'Hyundai Accent 1.4 MT Base - 2020': 1.084, 'Ford Ranger Limited 2.0L 4x4 AT - 2020': 1.085, 'Mazda CX5 2.0 AT - 2019': 1.086, 'Kia Morning EX - 2018': 1.087, 'Mazda 3 1.5L Luxury - 2020': 1.088, 'Hyundai SantaFe 2.2L HTRAC - 2020': 1.089, 'Mercedes Benz E class E200 - 2019': 1.09, 'Ford Explorer Limited 2.3L EcoBoost - 2020': 1.091, 'Toyota Camry 2.0G - 2020': 1.092, 'Mercedes Benz S class S450L - 2018': 1.093, 'Honda City 1.5 - 2018': 1.094, 'Toyota Vios 1.5G - 2017': 1.095, 'Mercedes Benz GLC 300 4Matic - 2019': 1.096, 'VinFast Lux A 2.0 Premium 2.0 AT - 2019': 1.097, 'Kia Cerato 2.0 AT Premium - 2019': 1.098, 'Mercedes Benz GLC 300 4Matic - 2020': 1.099, 'Mercedes Benz C class C200 Exclusive - 2020': 1.1, 'Toyota Vios 1.5E CVT - 2019': 1.101, 'Mercedes Benz C class C200 - 2018': 1.102, 'Hyundai SantaFe 2.2L - 2020': 1.103, 'Ford Ranger Wildtrak 2.0L 4x4 AT - 2019': 1.104, 'Toyota Vios 1.5E MT - 2020': 1.105, 'Toyota Innova 2.0E - 2017': 1.106, 'Kia Cerato 2.0 AT Premium - 2020': 1.107, 'Mercedes Benz E class E180 - 2020': 1.108, 'Suzuki Carry Pro - 2020': 1.109, 'Ford EcoSport Titanium 1.5L AT - 2018': 1.11, 'Hyundai i10 Grand 1.2 MT - 2019': 1.111, 'Honda City 1.5TOP - 2019': 1.112, 'Hyundai SantaFe 2.4L HTRAC - 2020': 1.113, 'Toyota Camry 2.5Q - 2020': 1.114, 'Mercedes Benz GLC 200 - 2018': 1.115, 'Ford EcoSport Titanium 1.5L AT - 2019': 1.116, 'Toyota Vios 1.5E MT - 2018': 1.117, 'Kia Cerato 1.6 MT - 2018': 1.118, 'Hyundai Accent 1.4 MT - 2019': 1.119, 'Hyundai Elantra 2.0 AT - 2020': 1.12, 'Toyota Vios 1.5E - 2017': 1.121, 'Mitsubishi Xpander 1.5 MT - 2019': 1.1219999999999999, 'VinFast Fadil 1.4 AT Plus - 2020': 1.123, 'Nissan Navara EL A-IVI 2.5 AT 2WD - 2020': 1.124, 'Kia Morning Si MT - 2018': 1.125, 'Lexus LM 300h Royal Lounge - 2020': 1.126, 'Toyota Corolla altis 1.8G AT - 2018': 1.127, 'Hyundai Tucson 2.0 ATH - 2018': 1.1280000000000001, 'Mazda CX8 Premium - 2020': 1.129, 'Mazda CX5 2.0 Luxury - 2020': 1.13, 'Hyundai SantaFe 2.4L - 2020': 1.131, 'Mercedes Benz S class S450L Luxury - 2019': 1.1320000000000001, 'Nissan X trail 2.0 SL Luxury - 2020': 1.133, 'Hyundai Elantra Sport 1.6 AT - 2020': 1.134, 'Hyundai Accent 1.4 ATH - 2018': 1.135, 'Mercedes Benz C class C200 Exclusive - 2019': 1.1360000000000001, 'Ford Ranger Wildtrak 2.0L 4x4 AT - 2018': 1.137, 'Chevrolet Spark Duo Van 1.2 MT - 2018': 1.138, 'Suzuki Super Carry Truck 1.0 MT - 2020': 1.139, 'Toyota Camry 2.5Q - 2019': 1.1400000000000001, 'Mercedes Benz GLC 300 4Matic - 2018': 1.141, 'Honda CRV G - 2020': 1.142, 'Hyundai Tucson 1.6 AT Turbo - 2018': 1.143, 'Ford Everest Trend 2.0L 4x2 AT - 2020': 1.1440000000000001, 'Kia Morning Si AT - 2018': 1.145, 'Mercedes Benz S class S450L Luxury - 2020': 1.146, 'Toyota Fortuner 2.4G 4x2 MT - 2020': 1.147, 'Ford Ranger Wildtrak 2.0L 4x2 AT - 2020': 1.148, 'Hyundai Elantra 1.6 AT - 2020': 1.149, 'Toyota Yaris 1.5G - 2019': 1.15, 'Hyundai Accent 1.4 MT - 2018': 1.151, 'VinFast Fadil 1.4 AT Premium - 2020': 1.152, 'Kia Cerato 1.6 AT Deluxe - 2020': 1.153, 'Honda Brio RS - 2020': 1.154, 'Ford Ranger Wildtrak 3.2L 4x4 AT - 2017': 1.155, 'Hyundai Accent 1.4 AT Đặc Biệt - 2021': 1.156, 'Toyota Corolla altis 1.8E AT - 2020': 1.157, 'Toyota Fortuner 2.7V 4x2 AT - 2017': 1.158, 'Honda CRV G - 2019': 1.159, 'Suzuki Ertiga Limited 1.5 AT - 2020': 1.16, 'Kia Morning Si AT - 2017': 1.161, 'Hyundai Tucson 2.0 ATH - 2019': 1.162, 'Toyota Wigo 1.2G AT - 2019': 1.163, 'Toyota Innova 2.0 Venturer - 2018': 1.164, 'Hyundai i10 Grand 1.2 AT - 2017': 1.165, 'Toyota Wigo 1.2G MT - 2019': 1.166, 'Toyota Camry 2.5Q - 2018': 1.167, 'Hyundai i10 Grand 1.2 MT Base - 2018': 1.168, 'Hyundai Elantra 1.6 MT - 2020': 1.169, 'Mazda CX5 2.5 AT 2WD - 2017': 1.17, 'Kia Cerato 2.0 AT - 2018': 1.171, 'Honda Brio RS - 2019': 1.172, 'Hyundai Elantra 1.6 AT - 2018': 1.173, 'Nissan Sunny XV Premium - 2020': 1.174, 'Toyota Vios 1.5E CVT - 2017': 1.175, 'Mazda 6 Luxury 2.0 AT - 2020': 1.176, 'Peugeot 5008 1.6 AT - 2018': 1.177, 'Suzuki Ciaz 1.4 AT - 2020': 1.178, 'Peugeot 3008 1.6 AT - 2019': 1.179, 'Toyota Wigo 1.2G MT - 2018': 1.18, 'Mercedes Benz C class C300 AMG - 2018': 1.181, 'Honda Civic RS 1.5 AT - 2019': 1.182, 'Mazda CX5 2.5 AT 2WD - 2019': 1.183, 'Lexus LX 570 Super Sport - 2021': 1.184, 'Ford Focus Trend 1.5L - 2019': 1.185, 'Ford Ranger XLS 2.2L 4x2 AT - 2019': 1.186, 'Toyota Innova 2.0E - 2020': 1.187, 'Ford Tourneo Titanium 2.0 AT - 2020': 1.188, 'Suzuki Swift GLX 1.2 AT - 2019': 1.189, 'Ford Ranger XL 2.2L 4x4 MT - 2020': 1.19, 'Honda CRV 2.4 AT - TG - 2017': 1.191, 'Suzuki Ertiga Sport 1.5 AT - 2020': 1.192, 'Toyota Corolla altis 1.8G AT - 2017': 1.193, 'Ford Focus Trend 1.5L - 2018': 1.194, 'Toyota Fortuner 2.4G 4x2 MT - 2019': 1.195, 'Hyundai Solati H350 2.5 MT - 2020': 1.196, 'Mitsubishi Outlander 2.0 CVT Premium - 2020': 1.197, 'Toyota Sienna Platinum 2.5 AT AWD - 2021': 1.198, 'Hyundai SantaFe 2.2L 4WD - 2018': 1.199, 'Honda Civic 1.8 E - 2018': 1.2, 'Ford Transit SVP - 2019': 1.201, 'Mazda 3 1.5L Sport Luxury - 2019': 1.202, 'Ford Transit SVP - 2018': 1.203, 'Suzuki Swift GLX 1.2 AT - 2020': 1.204, 'Hyundai Accent 1.4 AT - 2018': 1.205, 'Toyota Corolla altis 1.8G AT - 2019': 1.206, 'Mercedes Benz S class S450L - 2020': 1.207, 'Kia Cerato 1.6 MT - 2020': 1.208, 'Mercedes Benz GLC 250 4Matic - 2018': 1.209, 'Hyundai Tucson 2.0 AT CRDi - 2019': 1.21, 'Peugeot 5008 1.6 AT - 2019': 1.211, 'Honda Civic G 1.8 AT - 2020': 1.212, 'Chevrolet Aveo LT 1.4 MT - 2018': 1.213, 'Hyundai Kona 2.0 ATH - 2019': 1.214, 'Mercedes Benz E class E200 Sport - 2019': 1.215, 'Hyundai Solati H350 2.5 MT - 2019': 1.216, 'Hyundai SantaFe Premium 2.4L HTRAC - 2019': 1.217, 'Kia Soluto 1.4 MT Deluxe - 2020': 1.218, 'Toyota Corolla altis 1.8G AT - 2020': 1.219, 'Ford Ranger XL 2.2L 4x4 MT - 2021': 1.22, 'Kia Sedona 2.2 DAT Luxury - 2020': 1.221, 'LandRover Range Rover Autobiography LWB 3.0 I6 - 2020': 1.222, 'Nissan Terra V 2.5 AT 4WD - 2019': 1.223, 'Lincoln Navigator Black Label - 2020': 1.224, 'Hyundai SantaFe Premium 2.2L HTRAC - 2019': 1.225, 'Hyundai Kona 1.6 Turbo - 2019': 1.226, 'Mercedes Benz E class E180 - 2019': 1.227, 'Kia Cerato 1.6 MT - 2019': 1.228, 'Ford Ranger XLS 2.2L 4x2 MT - 2021': 1.229, 'Mitsubishi Attrage 1.2 CVT - 2020': 1.23, 'Kia Morning MT - 2019': 1.231, 'Toyota Hilux 2.4L 4x2 AT - 2020': 1.232, 'Ford Everest Ambiente 2.0 4x2 AT - 2019': 1.233, 'Mazda 6 Luxury 2.0 AT - 2019': 1.234, 'Mazda 6 2.0L Premium - 2018': 1.235, 'Toyota Wigo 1.2 MT - 2020': 1.236, 'Subaru Forester 2.0i-L - 2020': 1.237, 'Mercedes Benz E class E200 - 2018': 1.238, 'Ford Transit Standard MID - 2020': 1.239, 'Mazda 2 Luxury - 2020': 1.24, 'Ford Ranger XLS 2.2L 4x2 MT - 2017': 1.241, 'Kia Sedona 2.2 DAT Luxury - 2019': 1.242, 'Ford Transit Luxury - 2019': 1.2429999999999999, 'Kia Soluto 1.4 AT Deluxe - 2020': 1.244, 'Mazda 3 1.5L Premium - 2020': 1.245, 'Toyota Innova E 2.0 MT - 2020': 1.246, 'Hyundai Elantra 1.6 AT - 2019': 1.2469999999999999, 'Kia Morning Si MT - 2017': 1.248, 'Toyota Fortuner 2.4G 4x2 MT - 2017': 1.249, 'Toyota Prado VX 2.7L - 2019': 1.25, 'Mazda CX8 Premium AWD - 2020': 1.251, 'Honda HRV L - 2020': 1.252, 'MG ZS Comfort 1.5 AT 2WD - 2020': 1.2530000000000001, 'Mazda 3 1.5L Sport Luxury - 2020': 1.254, 'Mazda 2 Luxury - 2019': 1.255, 'Hyundai SantaFe 2.4L HTRAC - 2019': 1.256, 'Ford Everest Titanium 2.0L 4x4 AT - 2019': 1.2570000000000001, 'Kia Morning MT - 2020': 1.258, 'Ford Explorer Limited 2.3L EcoBoost - 2018': 1.259, 'Ford EcoSport Titanium 1.0 EcoBoost - 2020': 1.26, 'Chevrolet Cruze LT 1.6L - 2017': 1.2610000000000001, 'Mazda CX8 Luxury - 2020': 1.262, 'Honda Civic G 1.8 AT - 2019': 1.263, 'Honda City 1.5 - 2019': 1.264, 'Honda Jazz RS - 2018': 1.2650000000000001, 'Subaru Forester 2.0i-S EyeSight - 2020': 1.266, 'Mazda 3 1.5L Deluxe - 2020': 1.267, 'Mitsubishi Xpander 1.5 MT - 2020': 1.268, 'Ford Everest Titanium 2.0L 4x2 AT - 2019': 1.2690000000000001, 'Ford Focus Sport 1.5L - 2018': 1.27, 'Mazda CX8 Premium - 2019': 1.271, 'Mercedes Benz S class S450L - 2017': 1.272, 'Mercedes Benz C class C300 AMG - 2017': 1.2730000000000001, 'Ford F150 Raptor 3.5 V6 - 2020': 1.274, 'Toyota Wigo 1.2G AT - 2018': 1.275, 'Mitsubishi Outlander 2.0 CVT - 2019': 1.276, 'Peugeot 3008 Allure 1.6 AT - 2020': 1.2770000000000001, 'Toyota Innova 2.0 Venturer - 2019': 1.278, 'Hyundai Elantra 1.6 MT - 2019': 1.279, 'Honda City 1.5TOP - 2020': 1.28, 'Toyota Yaris 1.5G - 2017': 1.2810000000000001, 'Honda Civic RS 1.5 AT - 2020': 1.282, 'Mazda CX5 2.0 Deluxe - 2020': 1.283, 'Subaru Forester 2.0i-S - 2020': 1.284, 'Honda HRV L - 2019': 1.2850000000000001, 'Hyundai Accent 1.4 AT Đặc Biệt - 2020': 1.286, 'Kia Morning Luxury - 2020': 1.287, 'Mitsubishi Xpander 1.5 AT - 2018': 1.288, 'Chevrolet Spark LS 1.2 MT - 2018': 1.289, 'Ford Explorer Limited 2.3L EcoBoost - 2017': 1.29, 'Kia Morning Deluxe - 2019': 1.291, 'Subaru Forester 2.0i-S EyeSight - 2019': 1.292, 'Mitsubishi Triton 4x2 AT Mivec - 2020': 1.293, 'Mitsubishi Outlander 2.0 CVT - 2018': 1.294, 'Mercedes Benz GLC 200 4Matic - 2020': 1.295, 'Mazda CX5 2.5 Signature Premium 2WD I-Activ - 2020': 1.296, 'Toyota Avanza 1.5 AT - 2020': 1.297, 'Nissan Navara EL Premium Z - 2020': 1.298, 'Mitsubishi Xpander Cross 1.5 AT - 2020': 1.299, 'Ford Ranger XLS 2.2L 4x2 AT - 2018': 1.3, 'Toyota Rush 1.5S AT - 2019': 1.301, 'Nissan Navara EL Premium Z - 2019': 1.302, 'Toyota Camry 2.0E - 2017': 1.303, 'Toyota Fortuner 2.4G 4x2 AT - 2021': 1.304, 'Toyota Innova 2.0G - 2020': 1.305, 'Kia Optima 2.0 AT Luxury - 2020': 1.306, 'Hyundai Elantra Sport 1.6 AT - 2019': 1.307, 'MG ZS Standard 1.5 AT 2WD - 2020': 1.308, 'Toyota Yaris 1.5G - 2018': 1.309, 'Ford Ranger Raptor 2.0L 4x4 AT - 2021': 1.31, 'Mercedes Benz GLC 200 - 2019': 1.311, 'Kia Cerato 1.6 AT - 2017': 1.312, 'Nissan Navara VL 2.5 AT 4WD - 2020': 1.313, 'Peugeot 3008 1.6 AT - 2018': 1.314, 'Mini Cooper S 5Dr - 2019': 1.315, 'Hyundai Accent 1.4 AT - 2021': 1.316, 'Mazda 6 Premium 2.5 AT - 2020': 1.317, 'Isuzu MU-X 1.9 4X2 MT - 2019': 1.318, 'Mitsubishi Triton 4x4 AT Mivec Premium - 2020': 1.319, 'Hyundai Porter H150 - 2020': 1.32, 'Toyota Fortuner 2.4G 4x2 AT Legender - 2020': 1.321, 'Toyota Fortuner 2.4G 4x2 AT - 2018': 1.322, 'Toyota Prado VX 2.7L - 2018': 1.323, 'Hyundai Tucson 1.6 AT Turbo - 2019': 1.324, 'Toyota Fortuner 2.4G 4x2 MT - 2018': 1.325, 'Mercedes Benz E class E250 - 2017': 1.326, 'Toyota Camry 2.5Q - 2017': 1.327, 'Toyota Wigo 1.2 AT - 2020': 1.328, 'Mazda 6 2.0L Premium - 2017': 1.329, 'Mercedes Benz C class C250 Exclusive - 2018': 1.33, 'Chevrolet Captiva Revv LTZ 2.4 AT - 2017': 1.331, 'Ford Tourneo Titanium 2.0 AT - 2019': 1.332, 'Mazda CX5 2.0 Premium - 2020': 1.333, 'Kia Morning Deluxe - 2020': 1.334, 'BMW X7 xDrive40i - 2020': 1.335, 'Toyota Hilux 2.8G 4x4 AT - 2018': 1.336, 'Hyundai Elantra 2.0 AT - 2018': 1.337, 'Hyundai Kona 2.0 ATH - 2018': 1.338, 'Chevrolet Aveo LTZ 1.4 AT - 2018': 1.339, 'Mazda 3 2.0L Sport Signature Premium - 2020': 1.34, 'Hyundai Elantra Sport 1.6 AT - 2018': 1.341, 'Ford EcoSport Trend 1.5 AT - 2021': 1.342, 'Nissan Terra E 2.5 AT 2WD - 2019': 1.343, 'Chevrolet Colorado LT 2.5L 4x2 AT - 2018': 1.344, 'Ford Transit Limousine - 2018': 1.345, 'Kia Cerato 1.6 AT Deluxe - 2019': 1.346, 'Mazda CX5 2.5 AT AWD - 2018': 1.347, 'Kia Rondo GAT - 2018': 1.348, 'Ford EcoSport Trend 1.5 AT - 2020': 1.349, 'Ford Ranger Limited 2.0L 4x4 AT - 2021': 1.35, 'Lexus RX 300 - 2020': 1.351, 'Toyota Sienna Limited 2.5 AT AWD - 2021': 1.3519999999999999, 'Kia Sorento GAT - 2018': 1.353, 'Mitsubishi Outlander 2.0 CVT - 2020': 1.354, 'Subaru Forester 2.0i-L - 2019': 1.355, 'Mazda 6 2.5L Premium - 2018': 1.3559999999999999, 'Hyundai Kona 1.6 Turbo - 2018': 1.357, 'MG HS Sport 1.5 AT 2WD - 2020': 1.358, 'VinFast Lux SA 2.0 Premium 2.0 AT - 2019': 1.359, 'Ford Ranger XLS 2.2L 4x2 AT - 2017': 1.3599999999999999, 'BMW X7 xDrive40i M Sport - 2020': 1.361, 'Ford Focus Trend 1.5L - 2017': 1.362, 'Suzuki Celerio 1.0 AT - 2019': 1.363, 'Chevrolet Cruze LTZ 1.8L - 2017': 1.3639999999999999, 'Lexus RX 350 - 2020': 1.365, 'Kia Sedona 2.2L DATH - 2018': 1.366, 'Suzuki Ertiga GL 1.5 MT - 2020': 1.367, 'Toyota Innova 2.0G - 2017': 1.3679999999999999, 'Nissan Navara EL Premium R - 2018': 1.369, 'Mazda BT50 Standard 2.2L 4x4 MT - 2020': 1.37, 'Nissan Navara EL 2.5 AT 2WD - 2018': 1.371, 'Mazda 6 Signature Premium 2.5 AT - 2020': 1.3719999999999999, 'Isuzu MU-X 1.9 4X2 AT - 2019': 1.373, 'BMW 5 Series 520i - 2020': 1.374, 'Suzuki Ertiga GLX 1.5 AT - 2019': 1.375, 'Mazda CX8 Deluxe - 2020': 1.376, 'Mercedes Benz GLC 300 4Matic - 2017': 1.377, 'Hyundai i10 Grand 1.2 MT Base - 2019': 1.3780000000000001, 'Mazda 6 Premium 2.0 AT - 2020': 1.379, 'Mitsubishi Xpander 1.5 AT Special Edition - 2019': 1.38, 'Toyota Yaris 1.5G - 2020': 1.381, 'Mercedes Benz GLC 200 - 2020': 1.3820000000000001, 'Ford Transit Standard MID - 2019': 1.383, 'Cadillac Escalade Platinum Sport AWD - 2021': 1.384, 'Mazda CX5 2.5 Signature Premium AWD I-Activ - 2020': 1.385, 'Mercedes Benz GLC 250 4Matic - 2019': 1.3860000000000001, 'Mazda 6 2.0L - 2018': 1.387, 'Mitsubishi Outlander 2.0 CVT Premium - 2019': 1.388, 'Toyota Camry 2.0G - 2019': 1.389, 'Mazda 2 Deluxe - 2020': 1.3900000000000001, 'Volkswagen Polo 1.6 AT - 2020': 1.391, 'Mazda BT50 Deluxe 2.2L 4x2 AT - 2019': 1.392, 'Toyota Fortuner 2.4G 4x2 AT Legender - 2021': 1.393, 'Mercedes Benz E class E200 - 2017': 1.3940000000000001, 'Mazda 6 Deluxe 2.0 AT - 2020': 1.395, 'Hyundai Accent 1.4 MT Base - 2019': 1.396, 'Toyota Fortuner 2.7V 4x2 AT - 2018': 1.397, 'Ford Transit Limousine - 2019': 1.3980000000000001, 'Honda City 1.5 AT - 2017': 1.399, 'Kia Sorento DATH - 2018': 1.4, 'Toyota Wigo 1.2G AT - 2020': 1.401, 'Subaru Forester 2.0i-S - 2019': 1.4020000000000001, 'Toyota Corolla Cross 1.8V - 2020': 1.403, 'Toyota Corolla Cross 1.8HV - 2020': 1.404, 'Mazda BT50 Standard 2.2L 4x4 MT - 2019': 1.405, 'Kia Optima 2.4 AT Premium - 2020': 1.4060000000000001, 'Mitsubishi Pajero Sport 2.4D 4x2 AT - 2019': 1.407, 'Peugeot Traveller Luxury - 2020': 1.408, 'Mercedes Benz Maybach S450 4Matic - 2019': 1.409, 'Mercedes Benz GLC 250 4Matic - 2017': 1.4100000000000001, 'Mazda 2 1.5 AT - 2018': 1.411, 'Kia Sedona 2.2 DAT Deluxe - 2020': 1.412, 'Mitsubishi Triton 4x2 AT Mivec Premium - 2020': 1.413, 'Peugeot 3008 1.6 AT - 2020': 1.4140000000000001, 'Hyundai Elantra 2.0 AT - 2017': 1.415, 'Kia Sedona Platinum D - 2018': 1.416, 'Peugeot 5008 Allure 1.6 AT - 2020': 1.417, 'Toyota Innova E 2.0 MT - 2021': 1.418, 'Honda Accord 1.5 AT - 2019': 1.419, 'MG HS Trophy 2.0 AT AWD - 2020': 1.42, 'Honda CRV G - 2018': 1.421, 'Peugeot 5008 Active 1.6 AT - 2020': 1.422, 'Honda City 1.5TOP - 2017': 1.423, 'Mazda 3 2.0L Signature Premium - 2020': 1.424, 'Mazda CX8 Luxury - 2019': 1.425, 'Honda City 1.5 - 2020': 1.426, 'Honda HRV L - 2018': 1.427, 'Mercedes Benz E class E200 Exclusive - 2020': 1.428, 'Hyundai Accent 1.4 MT Base - 2018': 1.429, 'Kia Frontier K250 - 2020': 1.43, 'Mazda BT50 2.2L 4x4 MT - 2018': 1.431, 'Mazda BT50 2.2L 4x2 AT - 2017': 1.432, 'Lexus RX 350 - 2018': 1.433, 'Mitsubishi Triton 4x2 AT Mivec - 2019': 1.434, 'Peugeot Traveller Luxury - 2019': 1.435, 'Toyota Innova 2.0G - 2019': 1.436, 'Hyundai Tucson 2.0 AT - 2018': 1.437, 'Toyota Prado VX 2.7L - 2020': 1.438, 'Honda CRV E - 2018': 1.439, 'Ford Ranger Raptor 2.0L 4x4 AT - 2019': 1.44, 'Toyota Yaris G 1.5 AT - 2020': 1.441, 'Mazda 2 Deluxe - 2019': 1.442, 'Nissan Navara Black Edition VL 2.5 AT 4WD - 2019': 1.443, 'Mazda BT50 Premium 3.2L 4x4 AT - 2020': 1.444, 'Kia Soluto 1.4 AT Deluxe - 2019': 1.445, 'Hyundai Elantra 2.0 AT - 2019': 1.446, 'Kia Sorento Signature 2.2 AT AWD - 2020': 1.447, 'Suzuki Celerio 1.0 AT - 2018': 1.448, 'Mercedes Benz C class C180 - 2019': 1.449, 'Nissan Navara EL A-IVI 2.5 AT 2WD - 2019': 1.45, 'Toyota Prado VXL 3.0L - 2020': 1.451, 'Ford EcoSport Trend 1.5L AT - 2018': 1.452, 'Ford Transit Luxury - 2020': 1.453, 'Kia Soluto 1.4 MT - 2020': 1.454, 'Kia Sorento 2.4 GAT Premium - 2020': 1.455, 'Toyota Hilux 2.8G 4x4 AT - 2019': 1.456, 'Toyota Land Cruiser 4.6 V8 - 2020': 1.457, 'Toyota Hilux 2.8L 4x4 AT - 2020': 1.458, 'Honda Civic 1.5L Vtec Turbo - 2017': 1.459, 'Suzuki Super Carry Van Blind Van - 2020': 1.46, 'Honda CRV E - 2020': 1.461, 'Ford Ranger XLS 2.2L 4x2 MT - 2018': 1.462, 'BMW X5 xDrive40i xLine - 2020': 1.463, 'Ford Focus Titanium 1.5L - 2018': 1.464, 'Kia Sedona 3.3 GAT Premium - 2020': 1.465, 'Peugeot 5008 1.6 AT - 2020': 1.466, 'Volkswagen Tiguan Allspace Luxury - 2020': 1.467, 'Ford EcoSport Titanium 1.0 AT - 2020': 1.468, 'Mazda 2 1.5 AT - 2017': 1.469, 'Mitsubishi Attrage 1.2 MT - 2020': 1.47, 'Toyota Camry 2.0E - 2019': 1.471, 'Mercedes Benz E class E250 - 2018': 1.472, 'Kia Rondo GAT - 2017': 1.473, 'Toyota Avanza 1.5 AT - 2018': 1.474, 'Mitsubishi Pajero Sport 2.4D 4x4 AT - 2020': 1.475, 'Ford Everest Titanium 2.2L 4x2 AT - 2017': 1.476, 'Kia Sorento 2.2 DAT Premium - 2020': 1.477, 'BMW 5 Series 530i - 2020': 1.478, 'Toyota Fortuner 2.7V 4x2 AT - 2019': 1.479, 'Nissan Terra V 2.5 AT 4WD - 2020': 1.48, 'Nissan Navara EL 2.5 AT 2WD - 2017': 1.4809999999999999, 'Ford Everest Ambiente 2.0 4x2 MT - 2019': 1.482, 'Hyundai Tucson 2.0 AT CRDi - 2018': 1.483, 'Mitsubishi Triton 4x2 MT - 2020': 1.484, 'Subaru Outback 2.5i-S EyeSight - 2020': 1.4849999999999999, 'Honda Civic E 1.8 AT - 2020': 1.486, 'Mini Cooper S 5Dr - 2018': 1.487, 'Zotye Z8 2.0 AT - 2018': 1.488, 'Mitsubishi Attrage 1.2 CVT - 2019': 1.4889999999999999, 'Chevrolet Colorado LT 2.5L 4x2 AT - 2019': 1.49, 'Toyota Hilux 2.4L 4x2 AT - 2021': 1.491, 'Toyota Fortuner 2.7V 4x2 AT TRD - 2019': 1.492, 'Toyota Innova G 2.0 AT - 2020': 1.4929999999999999, 'Mercedes Benz S class S450L Luxury - 2018': 1.494, 'Ford Transit Limousine - 2020': 1.495, 'Ford Ranger Wildtrak 3.2L 4x4 AT - 2018': 1.496, 'Lincoln Navigator Reserve - 2020': 1.4969999999999999, 'MG ZS Luxury 1.5 AT 2WD - 2020': 1.498, 'Mitsubishi Pajero Sport 3.0G 4x2 AT - 2019': 1.499, 'Lexus RX 350L - 2018': 1.5, 'Hyundai SantaFe 2.4L 4WD - 2018': 1.501, 'Kia Optima 2.0 GAT Luxury - 2019': 1.502, 'Mazda 3 1.5L Sport Premium - 2020': 1.5030000000000001, 'VinFast Lux SA 2.0 2.0 AT - 2019': 1.504, 'Ford Ranger XLT 2.2L 4x4 AT - 2019': 1.505, 'Peugeot 3008 Active 1.6 AT - 2020': 1.506, 'Volkswagen Tiguan Allspace Luxury S - 2020': 1.5070000000000001, 'Toyota Fortuner 2.4G 4x2 MT - 2021': 1.508, 'Lexus ES 250 - 2019': 1.509, 'Nissan Sunny XL - 2020': 1.51, 'BMW 7 Series 740Li - 2020': 1.5110000000000001, 'Hyundai i10 Grand 1.2 MT - 2017': 1.512, 'Chevrolet Trailblazer LT 2.5L VGT 4x2 AT - 2018': 1.513, 'Ford Transit Standard MID - 2018': 1.514, 'BMW X1 sDrive18i - 2020': 1.5150000000000001, 'Ford Transit Luxury - 2018': 1.516, 'Mitsubishi Triton 4x4 AT Mivec - 2019': 1.517, 'Mazda 2 Sport Luxury - 2020': 1.518, 'Honda Accord 1.5 AT - 2020': 1.5190000000000001, 'MG HS Trophy 1.5 AT 2WD - 2020': 1.52, 'Toyota Hilux 2.4E 4x2 AT - 2020': 1.521, 'Toyota Wigo 1.2 MT - 2021': 1.522, 'Mazda 6 Premium 2.5 AT - 2019': 1.5230000000000001, 'Ford Tourneo Trend 2.0 AT - 2020': 1.524, 'Honda HRV G - 2020': 1.525, 'Kia Soluto 1.4 AT Luxury - 2020': 1.526, 'Toyota Corolla Cross 1.8G - 2020': 1.5270000000000001, 'Mercedes Benz C class C200 - 2017': 1.528, 'Mitsubishi Triton 4x2 AT Mivec - 2018': 1.529, 'Kia Rondo GAT Deluxe - 2020': 1.53, 'Mitsubishi Triton 4x2 AT - 2018': 1.5310000000000001, 'Chevrolet Aveo LTZ 1.4 AT - 2017': 1.532, 'Hyundai SantaFe 2.2L - 2019': 1.533, 'Ford Everest Titanium 2.0L 4x2 AT - 2018': 1.534, 'Isuzu Dmax LS 1.9L 4x2 MT - 2019': 1.5350000000000001, 'Mercedes Benz C class C250 Exclusive - 2017': 1.536, 'Honda Jazz V - 2018': 1.537, 'Mitsubishi Mirage 1.2 CVT - 2019': 1.538, 'Mazda BT50 Luxury 2.2L 4x2 AT - 2019': 1.5390000000000001, 'Peugeot 3008 Allure - 2020': 1.54, 'Mini Cooper 3Dr - 2020': 1.541, 'Nissan Terra S 2.5 MT 2WD - 2019': 1.542, 'Kia Morning AT - 2020': 1.5430000000000001, 'Ford EcoSport Titanium 1.5L AT - 2017': 1.544, 'Hyundai SantaFe 2.2L 4WD - 2017': 1.545, 'Mazda BT50 Deluxe 2.2L 4x2 AT - 2020': 1.546, 'Kia Sorento 2.2 DAT Premium - 2019': 1.5470000000000002, 'Lexus LX 570 Super Sport - 2019': 1.548, 'BMW X6 xDrive40i M Sport - 2020': 1.549, 'Mercedes Benz GLA class GLA 200 - 2019': 1.55, 'Mitsubishi Outlander 2.0 CVT Premium - 2018': 1.5510000000000002, 'Ford Ranger XLT 2.2L 4x4 AT - 2020': 1.552, 'Mazda CX5 2.5 AT AWD - 2017': 1.553, 'Honda Civic 1.8 E - 2019': 1.554, 'Toyota Avanza 1.3 MT - 2020': 1.5550000000000002, 'Chevrolet Colorado High Country 2.8L 4x4 AT - 2017': 1.556, 'VinFast Lux A 2.0 2.0 AT - 2019': 1.557, 'Lexus GX 460 - 2020': 1.558, 'Volkswagen Passat 1.8 Bluemotion - 2018': 1.5590000000000002, 'Honda CRV E - 2019': 1.56, 'Kia Sorento 2.4 GAT Deluxe - 2019': 1.561, 'Mitsubishi Triton 4x2 AT - 2017': 1.562, 'Hyundai SantaFe 2.4L 4WD - 2017': 1.5630000000000002, 'Hyundai Porter H150 - 2019': 1.564, 'Toyota Rush 1.5S AT - 2018': 1.565, 'Lexus LX 570 - 2020': 1.566, 'Ford EcoSport Titanium 1.0 AT - 2021': 1.5670000000000002, 'Toyota Yaris G 1.5 AT - 2021': 1.568, 'Kia Optima 2.0 ATH - 2018': 1.569, 'Kia Rondo GMT - 2018': 1.57, 'Ford EcoSport Titanium 1.0 EcoBoost - 2018': 1.5710000000000002, 'Hyundai Elantra 1.6 MT - 2018': 1.572, 'Toyota Avanza 1.3 MT - 2018': 1.573, 'Honda Civic 1.5G Vtec Turbo - 2018': 1.574, 'Lexus LX 570 Super Sport - 2018': 1.5750000000000002, 'Hyundai Solati H350 2.5 MT - 2018': 1.576, 'Ford Everest Ambiente 2.0 4x2 MT - 2020': 1.577, 'Nissan Navara EL Premium R - 2019': 1.5779999999999998, 'Suzuki Ciaz 1.4 AT - 2019': 1.579, 'Lexus NX 300 - 2019': 1.58, 'Chevrolet Spark LS 1.2 MT - 2017': 1.581, 'Toyota Hilux 2.8L 4x4 AT - 2021': 1.5819999999999999, 'Mazda CX5 2.0 AT - 2017': 1.583, 'Mazda 2 Premium - 2020': 1.584, 'Mazda CX8 Premium AWD - 2019': 1.585, 'Chevrolet Trailblazer LTZ 2.5L VGT 4x4 AT - 2019': 1.5859999999999999, 'Toyota Fortuner 2.8V 4x4 AT - 2019': 1.587, 'BMW 2 Series 218i Gran Tourer - 2020': 1.588, 'Hyundai Tucson 2.0 AT - 2019': 1.589, 'LandRover Range Rover Autobiography LWB 3.0 I6 - 2021': 1.5899999999999999, 'LandRover Range Rover SVAutobiography LWB 3.0 I6 - 2020': 1.591}\n"
     ]
    }
   ],
   "source": [
    "carList=dict()\n",
    "i=0\n",
    "while i<len(carMap):\n",
    "    carList[carMap.index[i]]=i*0.001+1\n",
    "    i+=1\n",
    "print(carList)"
   ]
  },
  {
   "cell_type": "code",
   "execution_count": 26,
   "metadata": {},
   "outputs": [],
   "source": [
    "data.Car=data.Car.map(carList)"
   ]
  },
  {
   "cell_type": "markdown",
   "metadata": {},
   "source": [
    "# Rút gọn giá tiền\n",
    "Rút gọn giá tiền làm cho độ chênh lệch giữa các giá tiền thấp đi, dễ thể hiện trên biểu đồ cũng như giúp người dùng dễ dàng quan sát."
   ]
  },
  {
   "cell_type": "code",
   "execution_count": 27,
   "metadata": {},
   "outputs": [
    {
     "data": {
      "text/html": [
       "<div>\n",
       "<style scoped>\n",
       "    .dataframe tbody tr th:only-of-type {\n",
       "        vertical-align: middle;\n",
       "    }\n",
       "\n",
       "    .dataframe tbody tr th {\n",
       "        vertical-align: top;\n",
       "    }\n",
       "\n",
       "    .dataframe thead th {\n",
       "        text-align: right;\n",
       "    }\n",
       "</style>\n",
       "<table border=\"1\" class=\"dataframe\">\n",
       "  <thead>\n",
       "    <tr style=\"text-align: right;\">\n",
       "      <th></th>\n",
       "      <th>Price</th>\n",
       "      <th>Car</th>\n",
       "      <th>madeIn</th>\n",
       "      <th>status</th>\n",
       "      <th>carType</th>\n",
       "      <th>Km</th>\n",
       "      <th>carColor</th>\n",
       "      <th>carSeat</th>\n",
       "      <th>engine</th>\n",
       "      <th>gear</th>\n",
       "      <th>Wheeldrive</th>\n",
       "    </tr>\n",
       "  </thead>\n",
       "  <tbody>\n",
       "    <tr>\n",
       "      <th>0</th>\n",
       "      <td>0.764</td>\n",
       "      <td>1.350</td>\n",
       "      <td>1.02</td>\n",
       "      <td>1.01</td>\n",
       "      <td>1.05</td>\n",
       "      <td>0</td>\n",
       "      <td>1.004</td>\n",
       "      <td>5</td>\n",
       "      <td>1.004</td>\n",
       "      <td>1.01</td>\n",
       "      <td>1.004</td>\n",
       "    </tr>\n",
       "    <tr>\n",
       "      <th>1</th>\n",
       "      <td>0.599</td>\n",
       "      <td>1.229</td>\n",
       "      <td>1.02</td>\n",
       "      <td>1.01</td>\n",
       "      <td>1.05</td>\n",
       "      <td>0</td>\n",
       "      <td>1.001</td>\n",
       "      <td>5</td>\n",
       "      <td>1.006</td>\n",
       "      <td>1.02</td>\n",
       "      <td>1.002</td>\n",
       "    </tr>\n",
       "    <tr>\n",
       "      <th>2</th>\n",
       "      <td>0.750</td>\n",
       "      <td>1.418</td>\n",
       "      <td>1.01</td>\n",
       "      <td>1.01</td>\n",
       "      <td>1.04</td>\n",
       "      <td>0</td>\n",
       "      <td>1.005</td>\n",
       "      <td>8</td>\n",
       "      <td>1.002</td>\n",
       "      <td>1.02</td>\n",
       "      <td>1.002</td>\n",
       "    </tr>\n",
       "    <tr>\n",
       "      <th>3</th>\n",
       "      <td>0.626</td>\n",
       "      <td>1.062</td>\n",
       "      <td>1.01</td>\n",
       "      <td>1.01</td>\n",
       "      <td>1.01</td>\n",
       "      <td>0</td>\n",
       "      <td>1.013</td>\n",
       "      <td>5</td>\n",
       "      <td>1.001</td>\n",
       "      <td>1.01</td>\n",
       "      <td>1.001</td>\n",
       "    </tr>\n",
       "    <tr>\n",
       "      <th>4</th>\n",
       "      <td>4.350</td>\n",
       "      <td>1.352</td>\n",
       "      <td>1.02</td>\n",
       "      <td>1.01</td>\n",
       "      <td>1.06</td>\n",
       "      <td>0</td>\n",
       "      <td>1.001</td>\n",
       "      <td>7</td>\n",
       "      <td>1.021</td>\n",
       "      <td>1.01</td>\n",
       "      <td>1.003</td>\n",
       "    </tr>\n",
       "    <tr>\n",
       "      <th>...</th>\n",
       "      <td>...</td>\n",
       "      <td>...</td>\n",
       "      <td>...</td>\n",
       "      <td>...</td>\n",
       "      <td>...</td>\n",
       "      <td>...</td>\n",
       "      <td>...</td>\n",
       "      <td>...</td>\n",
       "      <td>...</td>\n",
       "      <td>...</td>\n",
       "      <td>...</td>\n",
       "    </tr>\n",
       "    <tr>\n",
       "      <th>11025</th>\n",
       "      <td>0.298</td>\n",
       "      <td>1.248</td>\n",
       "      <td>1.01</td>\n",
       "      <td>1.02</td>\n",
       "      <td>1.03</td>\n",
       "      <td>35</td>\n",
       "      <td>1.003</td>\n",
       "      <td>5</td>\n",
       "      <td>1.005</td>\n",
       "      <td>1.02</td>\n",
       "      <td>1.001</td>\n",
       "    </tr>\n",
       "    <tr>\n",
       "      <th>11026</th>\n",
       "      <td>0.475</td>\n",
       "      <td>1.095</td>\n",
       "      <td>1.01</td>\n",
       "      <td>1.02</td>\n",
       "      <td>1.02</td>\n",
       "      <td>45</td>\n",
       "      <td>1.008</td>\n",
       "      <td>5</td>\n",
       "      <td>1.001</td>\n",
       "      <td>1.01</td>\n",
       "      <td>1.001</td>\n",
       "    </tr>\n",
       "    <tr>\n",
       "      <th>11027</th>\n",
       "      <td>0.365</td>\n",
       "      <td>1.261</td>\n",
       "      <td>1.01</td>\n",
       "      <td>1.02</td>\n",
       "      <td>1.02</td>\n",
       "      <td>45</td>\n",
       "      <td>1.011</td>\n",
       "      <td>5</td>\n",
       "      <td>1.003</td>\n",
       "      <td>1.02</td>\n",
       "      <td>1.001</td>\n",
       "    </tr>\n",
       "    <tr>\n",
       "      <th>11028</th>\n",
       "      <td>0.365</td>\n",
       "      <td>1.261</td>\n",
       "      <td>1.01</td>\n",
       "      <td>1.02</td>\n",
       "      <td>1.02</td>\n",
       "      <td>45</td>\n",
       "      <td>1.001</td>\n",
       "      <td>5</td>\n",
       "      <td>1.003</td>\n",
       "      <td>1.02</td>\n",
       "      <td>1.001</td>\n",
       "    </tr>\n",
       "    <tr>\n",
       "      <th>11029</th>\n",
       "      <td>0.788</td>\n",
       "      <td>1.583</td>\n",
       "      <td>1.01</td>\n",
       "      <td>1.02</td>\n",
       "      <td>1.01</td>\n",
       "      <td>40</td>\n",
       "      <td>1.004</td>\n",
       "      <td>5</td>\n",
       "      <td>1.002</td>\n",
       "      <td>1.01</td>\n",
       "      <td>1.001</td>\n",
       "    </tr>\n",
       "  </tbody>\n",
       "</table>\n",
       "<p>11030 rows × 11 columns</p>\n",
       "</div>"
      ],
      "text/plain": [
       "       Price    Car  madeIn  status  carType  Km  carColor  carSeat  engine  \\\n",
       "0      0.764  1.350    1.02    1.01     1.05   0     1.004        5   1.004   \n",
       "1      0.599  1.229    1.02    1.01     1.05   0     1.001        5   1.006   \n",
       "2      0.750  1.418    1.01    1.01     1.04   0     1.005        8   1.002   \n",
       "3      0.626  1.062    1.01    1.01     1.01   0     1.013        5   1.001   \n",
       "4      4.350  1.352    1.02    1.01     1.06   0     1.001        7   1.021   \n",
       "...      ...    ...     ...     ...      ...  ..       ...      ...     ...   \n",
       "11025  0.298  1.248    1.01    1.02     1.03  35     1.003        5   1.005   \n",
       "11026  0.475  1.095    1.01    1.02     1.02  45     1.008        5   1.001   \n",
       "11027  0.365  1.261    1.01    1.02     1.02  45     1.011        5   1.003   \n",
       "11028  0.365  1.261    1.01    1.02     1.02  45     1.001        5   1.003   \n",
       "11029  0.788  1.583    1.01    1.02     1.01  40     1.004        5   1.002   \n",
       "\n",
       "       gear  Wheeldrive  \n",
       "0      1.01       1.004  \n",
       "1      1.02       1.002  \n",
       "2      1.02       1.002  \n",
       "3      1.01       1.001  \n",
       "4      1.01       1.003  \n",
       "...     ...         ...  \n",
       "11025  1.02       1.001  \n",
       "11026  1.01       1.001  \n",
       "11027  1.02       1.001  \n",
       "11028  1.02       1.001  \n",
       "11029  1.01       1.001  \n",
       "\n",
       "[11030 rows x 11 columns]"
      ]
     },
     "execution_count": 27,
     "metadata": {},
     "output_type": "execute_result"
    }
   ],
   "source": [
    "data"
   ]
  },
  {
   "cell_type": "code",
   "execution_count": 28,
   "metadata": {},
   "outputs": [],
   "source": [
    "data.to_csv('ProcessedData.csv',index=False)"
   ]
  },
  {
   "cell_type": "code",
   "execution_count": 29,
   "metadata": {},
   "outputs": [
    {
     "name": "stdout",
     "output_type": "stream",
     "text": [
      "<class 'pandas.core.frame.DataFrame'>\n",
      "Int64Index: 11030 entries, 0 to 11029\n",
      "Data columns (total 11 columns):\n",
      " #   Column      Non-Null Count  Dtype  \n",
      "---  ------      --------------  -----  \n",
      " 0   Price       11030 non-null  float64\n",
      " 1   Car         11030 non-null  float64\n",
      " 2   madeIn      11030 non-null  float64\n",
      " 3   status      11030 non-null  float64\n",
      " 4   carType     11030 non-null  float64\n",
      " 5   Km          11030 non-null  int64  \n",
      " 6   carColor    11030 non-null  float64\n",
      " 7   carSeat     11030 non-null  int64  \n",
      " 8   engine      11030 non-null  float64\n",
      " 9   gear        11030 non-null  float64\n",
      " 10  Wheeldrive  11030 non-null  float64\n",
      "dtypes: float64(9), int64(2)\n",
      "memory usage: 1.0 MB\n"
     ]
    }
   ],
   "source": [
    "data.info()"
   ]
  },
  {
   "cell_type": "code",
   "execution_count": 30,
   "metadata": {},
   "outputs": [],
   "source": [
    "data_ke=data.loc[3001:]"
   ]
  }
 ],
 "metadata": {
  "kernelspec": {
   "display_name": "Python 3",
   "language": "python",
   "name": "python3"
  },
  "language_info": {
   "codemirror_mode": {
    "name": "ipython",
    "version": 3
   },
   "file_extension": ".py",
   "mimetype": "text/x-python",
   "name": "python",
   "nbconvert_exporter": "python",
   "pygments_lexer": "ipython3",
   "version": "3.9.0"
  }
 },
 "nbformat": 4,
 "nbformat_minor": 4
}
